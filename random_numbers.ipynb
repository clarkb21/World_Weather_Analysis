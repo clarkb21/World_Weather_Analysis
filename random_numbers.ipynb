{
 "cells": [
  {
   "cell_type": "code",
   "execution_count": 5,
   "id": "e14bc61a",
   "metadata": {},
   "outputs": [],
   "source": [
    "#Import random module\n",
    "import random\n",
    "import numpy as np"
   ]
  },
  {
   "cell_type": "code",
   "execution_count": 6,
   "id": "785cebb7",
   "metadata": {},
   "outputs": [
    {
     "data": {
      "text/plain": [
       "62"
      ]
     },
     "execution_count": 6,
     "metadata": {},
     "output_type": "execute_result"
    }
   ],
   "source": [
    "random.randint(-90,90)"
   ]
  },
  {
   "cell_type": "code",
   "execution_count": 12,
   "id": "f63fc2e4",
   "metadata": {},
   "outputs": [
    {
     "name": "stdout",
     "output_type": "stream",
     "text": [
      "[8.714608139354791, -14.462418254887877, -57.307499613544806, 21.79620097716632, 51.08152077496124, -28.257648532445454, 64.89798069557496, -22.58586291817701, 58.55817238590529, 51.5642845703542]\n"
     ]
    }
   ],
   "source": [
    "x = 1 \n",
    "latitudes = []\n",
    "while x<11: \n",
    "    random_lat = random.randint(-90,89) + random.random()\n",
    "    latitudes.append(random_lat)\n",
    "    x += 1\n",
    "    \n",
    "print(latitudes)"
   ]
  },
  {
   "cell_type": "code",
   "execution_count": 9,
   "id": "afaa2709",
   "metadata": {},
   "outputs": [
    {
     "data": {
      "text/plain": [
       "array([ 3.80512528e+01,  6.84812711e+01, -5.50774925e+01,  5.34282712e+00,\n",
       "        3.05142654e+01, -4.61859893e+01, -1.07282690e+01,  3.47233693e+01,\n",
       "       -4.23130039e+01,  7.60346319e+01, -8.08260974e+01,  5.70800665e+01,\n",
       "        5.46879420e+01, -4.31924608e+01,  4.62422343e-02,  3.21860669e+01,\n",
       "        7.71304810e+01,  8.08640811e+01,  8.78030167e+01, -4.53843293e+01,\n",
       "        1.94272239e+01, -1.45949475e+01,  8.60999879e+01,  6.41860017e+01,\n",
       "        8.44825390e+01,  5.59430752e+01, -2.81837099e+01,  7.71214485e+01,\n",
       "        4.38039063e+01, -3.37212190e+01, -2.18714471e+01, -8.69501111e+01,\n",
       "        1.74414208e+01, -5.28271117e+01, -1.36205880e+01,  8.65828695e+01,\n",
       "        2.05303746e+00, -1.97155851e+01, -7.73845936e+01,  2.26354444e+01,\n",
       "        7.84379192e+01,  3.56501418e+00, -6.10968595e+01,  3.61214446e+00,\n",
       "        3.12012604e+01, -7.85096071e+01, -5.88862263e+01, -8.94150943e+01,\n",
       "        6.41439167e+01, -6.79376524e+01])"
      ]
     },
     "execution_count": 9,
     "metadata": {},
     "output_type": "execute_result"
    }
   ],
   "source": [
    "np.random.uniform(-90.000, 90.000, size = 50)"
   ]
  },
  {
   "cell_type": "code",
   "execution_count": 13,
   "id": "85e5df06",
   "metadata": {},
   "outputs": [],
   "source": [
    "import timeit"
   ]
  },
  {
   "cell_type": "code",
   "execution_count": 14,
   "id": "45ea5d39",
   "metadata": {},
   "outputs": [
    {
     "name": "stdout",
     "output_type": "stream",
     "text": [
      "13.5 µs ± 299 ns per loop (mean ± std. dev. of 7 runs, 100000 loops each)\n"
     ]
    }
   ],
   "source": [
    "%timeit np.random.uniform(-90.000, 90.000, size = 1500)"
   ]
  },
  {
   "cell_type": "code",
   "execution_count": 19,
   "id": "4bb63771",
   "metadata": {},
   "outputs": [
    {
     "name": "stdout",
     "output_type": "stream",
     "text": [
      "1.52 ms ± 58.9 µs per loop (mean ± std. dev. of 7 runs, 1000 loops each)\n"
     ]
    }
   ],
   "source": [
    "def latitudes(size):\n",
    "    latitudes = []\n",
    "    x = 0\n",
    "    while x <(size):\n",
    "        random_lat = random.randint(-90, 90) + random.random()\n",
    "        latitudes.append(random_lat)\n",
    "        x += 1\n",
    "    return latitudes\n",
    "# Call the function with 1500.\n",
    "%timeit latitudes(1500)"
   ]
  },
  {
   "cell_type": "code",
   "execution_count": null,
   "id": "a27e7586",
   "metadata": {},
   "outputs": [],
   "source": []
  }
 ],
 "metadata": {
  "kernelspec": {
   "display_name": "PythonData",
   "language": "python",
   "name": "pythondata"
  },
  "language_info": {
   "codemirror_mode": {
    "name": "ipython",
    "version": 3
   },
   "file_extension": ".py",
   "mimetype": "text/x-python",
   "name": "python",
   "nbconvert_exporter": "python",
   "pygments_lexer": "ipython3",
   "version": "3.7.13"
  }
 },
 "nbformat": 4,
 "nbformat_minor": 5
}
